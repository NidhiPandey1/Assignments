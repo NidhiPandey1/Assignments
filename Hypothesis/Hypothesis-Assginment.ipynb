{
 "cells": [
  {
   "cell_type": "code",
   "execution_count": 78,
   "id": "781d1018",
   "metadata": {},
   "outputs": [],
   "source": [
    "import scipy.stats as stats\n",
    "import warnings\n",
    "warnings.filterwarnings(\"ignore\")\n",
    "from scipy.stats import chi2_contingency"
   ]
  },
  {
   "cell_type": "markdown",
   "id": "6c75b163",
   "metadata": {},
   "source": [
    "## Question - 1\n",
    "A F&B manager wants to determine whether there is any significant difference in the diameter of the cutlet between two units. A randomly selected sample of cutlets was collected from both units and measured? Analyze the data and draw inferences at 5% significance level. Please state the assumptions and tests that you carried out to check validity of the assumptions.\n"
   ]
  },
  {
   "cell_type": "markdown",
   "id": "722e974a",
   "metadata": {},
   "source": [
    "#### <font color='Green'> We will conducting 2 tailed t- test on the given sample to test that the mean of both samples are different. </font>\n",
    "#### Null Hypothesis : µ1=µ2\n",
    "#### Alternate Hypothesis : µ1≠ µ2\n",
    "#### Alpha =0.05 , Alpha for two tailed =0.025"
   ]
  },
  {
   "cell_type": "markdown",
   "id": "93c12c14",
   "metadata": {},
   "source": [
    "### Loading dataset for testing"
   ]
  },
  {
   "cell_type": "code",
   "execution_count": 79,
   "id": "7d726447",
   "metadata": {},
   "outputs": [
    {
     "data": {
      "text/html": [
       "<div>\n",
       "<style scoped>\n",
       "    .dataframe tbody tr th:only-of-type {\n",
       "        vertical-align: middle;\n",
       "    }\n",
       "\n",
       "    .dataframe tbody tr th {\n",
       "        vertical-align: top;\n",
       "    }\n",
       "\n",
       "    .dataframe thead th {\n",
       "        text-align: right;\n",
       "    }\n",
       "</style>\n",
       "<table border=\"1\" class=\"dataframe\">\n",
       "  <thead>\n",
       "    <tr style=\"text-align: right;\">\n",
       "      <th></th>\n",
       "      <th>Unit A</th>\n",
       "      <th>Unit B</th>\n",
       "    </tr>\n",
       "  </thead>\n",
       "  <tbody>\n",
       "    <tr>\n",
       "      <th>0</th>\n",
       "      <td>6.8090</td>\n",
       "      <td>6.7703</td>\n",
       "    </tr>\n",
       "    <tr>\n",
       "      <th>1</th>\n",
       "      <td>6.4376</td>\n",
       "      <td>7.5093</td>\n",
       "    </tr>\n",
       "    <tr>\n",
       "      <th>2</th>\n",
       "      <td>6.9157</td>\n",
       "      <td>6.7300</td>\n",
       "    </tr>\n",
       "    <tr>\n",
       "      <th>3</th>\n",
       "      <td>7.3012</td>\n",
       "      <td>6.7878</td>\n",
       "    </tr>\n",
       "    <tr>\n",
       "      <th>4</th>\n",
       "      <td>7.4488</td>\n",
       "      <td>7.1522</td>\n",
       "    </tr>\n",
       "    <tr>\n",
       "      <th>5</th>\n",
       "      <td>7.3871</td>\n",
       "      <td>6.8110</td>\n",
       "    </tr>\n",
       "    <tr>\n",
       "      <th>6</th>\n",
       "      <td>6.8755</td>\n",
       "      <td>7.2212</td>\n",
       "    </tr>\n",
       "    <tr>\n",
       "      <th>7</th>\n",
       "      <td>7.0621</td>\n",
       "      <td>6.6606</td>\n",
       "    </tr>\n",
       "    <tr>\n",
       "      <th>8</th>\n",
       "      <td>6.6840</td>\n",
       "      <td>7.2402</td>\n",
       "    </tr>\n",
       "    <tr>\n",
       "      <th>9</th>\n",
       "      <td>6.8236</td>\n",
       "      <td>7.0503</td>\n",
       "    </tr>\n",
       "  </tbody>\n",
       "</table>\n",
       "</div>"
      ],
      "text/plain": [
       "   Unit A  Unit B\n",
       "0  6.8090  6.7703\n",
       "1  6.4376  7.5093\n",
       "2  6.9157  6.7300\n",
       "3  7.3012  6.7878\n",
       "4  7.4488  7.1522\n",
       "5  7.3871  6.8110\n",
       "6  6.8755  7.2212\n",
       "7  7.0621  6.6606\n",
       "8  6.6840  7.2402\n",
       "9  6.8236  7.0503"
      ]
     },
     "execution_count": 79,
     "metadata": {},
     "output_type": "execute_result"
    }
   ],
   "source": [
    "df1 =pd.read_csv(r'C:\\Users\\DELL\\Downloads\\cutlets.csv')\n",
    "df1.head(10)"
   ]
  },
  {
   "cell_type": "markdown",
   "id": "37468279",
   "metadata": {},
   "source": [
    "#### Calculating the p value for  samples for interpreting the result"
   ]
  },
  {
   "cell_type": "code",
   "execution_count": 80,
   "id": "c84ba014",
   "metadata": {},
   "outputs": [
    {
     "name": "stdout",
     "output_type": "stream",
     "text": [
      "p_value= 0.4722394724599501\n"
     ]
    }
   ],
   "source": [
    "statistic , p_value = stats.ttest_ind(df1['Unit A'],df1['Unit B'], alternative = 'two-sided')\n",
    "print('p_value=',p_value)"
   ]
  },
  {
   "cell_type": "markdown",
   "id": "f5e56b6b",
   "metadata": {},
   "source": [
    "#### Compare p_value with \n",
    "#### If p_value is ≠ alpha :- we failed to reject Null Hypothesis because of lack of evidence\n",
    "#### If p_value is = alpha :- we reject Null Hypothesis\n",
    "interpreting p-value"
   ]
  },
  {
   "cell_type": "code",
   "execution_count": 81,
   "id": "769f8dbb",
   "metadata": {},
   "outputs": [
    {
     "name": "stdout",
     "output_type": "stream",
     "text": [
      "Significnace=0.025, p=0.472\n",
      "We fail to reject Null hypothesis\n"
     ]
    }
   ],
   "source": [
    "alpha = 0.025\n",
    "print('Significnace=%.3f, p=%.3f' % (alpha, p_value))\n",
    "if p_value <= alpha:\n",
    "    print('We reject Null Hypothesis there is a significance difference between two Units A and B')\n",
    "else:\n",
    "    print('We fail to reject Null hypothesis')"
   ]
  },
  {
   "cell_type": "markdown",
   "id": "e6d5405a",
   "metadata": {},
   "source": [
    "#### <font color= 'Brown' > We fail to reject Null Hypothesis.There is no significant difference between the both units. </font>"
   ]
  },
  {
   "cell_type": "markdown",
   "id": "b747dd5d",
   "metadata": {},
   "source": [
    "***"
   ]
  },
  {
   "cell_type": "markdown",
   "id": "158d15c9",
   "metadata": {},
   "source": [
    "### Question 2\n",
    "### A hospital wants to determine whether there is any difference in the average Turn Around Time (TAT) of reports of the laboratories on their preferred list. They collected a random sample and recorded TAT for reports of 4 laboratories. TAT is defined as sample collected to report dispatch. Analyze the data and determine whether there is any difference in average TAT among the different laboratories at 5% significance level.\n"
   ]
  },
  {
   "cell_type": "markdown",
   "id": "6219554d",
   "metadata": {},
   "source": [
    "#### Loading the TAT reports from laboratories"
   ]
  },
  {
   "cell_type": "code",
   "execution_count": 82,
   "id": "6661a88c",
   "metadata": {},
   "outputs": [
    {
     "data": {
      "text/html": [
       "<div>\n",
       "<style scoped>\n",
       "    .dataframe tbody tr th:only-of-type {\n",
       "        vertical-align: middle;\n",
       "    }\n",
       "\n",
       "    .dataframe tbody tr th {\n",
       "        vertical-align: top;\n",
       "    }\n",
       "\n",
       "    .dataframe thead th {\n",
       "        text-align: right;\n",
       "    }\n",
       "</style>\n",
       "<table border=\"1\" class=\"dataframe\">\n",
       "  <thead>\n",
       "    <tr style=\"text-align: right;\">\n",
       "      <th></th>\n",
       "      <th>Laboratory 1</th>\n",
       "      <th>Laboratory 2</th>\n",
       "      <th>Laboratory 3</th>\n",
       "      <th>Laboratory 4</th>\n",
       "    </tr>\n",
       "  </thead>\n",
       "  <tbody>\n",
       "    <tr>\n",
       "      <th>0</th>\n",
       "      <td>185.35</td>\n",
       "      <td>165.53</td>\n",
       "      <td>176.70</td>\n",
       "      <td>166.13</td>\n",
       "    </tr>\n",
       "    <tr>\n",
       "      <th>1</th>\n",
       "      <td>170.49</td>\n",
       "      <td>185.91</td>\n",
       "      <td>198.45</td>\n",
       "      <td>160.79</td>\n",
       "    </tr>\n",
       "    <tr>\n",
       "      <th>2</th>\n",
       "      <td>192.77</td>\n",
       "      <td>194.92</td>\n",
       "      <td>201.23</td>\n",
       "      <td>185.18</td>\n",
       "    </tr>\n",
       "    <tr>\n",
       "      <th>3</th>\n",
       "      <td>177.33</td>\n",
       "      <td>183.00</td>\n",
       "      <td>199.61</td>\n",
       "      <td>176.42</td>\n",
       "    </tr>\n",
       "    <tr>\n",
       "      <th>4</th>\n",
       "      <td>193.41</td>\n",
       "      <td>169.57</td>\n",
       "      <td>204.63</td>\n",
       "      <td>152.60</td>\n",
       "    </tr>\n",
       "    <tr>\n",
       "      <th>5</th>\n",
       "      <td>179.45</td>\n",
       "      <td>197.00</td>\n",
       "      <td>181.51</td>\n",
       "      <td>161.12</td>\n",
       "    </tr>\n",
       "    <tr>\n",
       "      <th>6</th>\n",
       "      <td>191.37</td>\n",
       "      <td>166.36</td>\n",
       "      <td>214.21</td>\n",
       "      <td>154.02</td>\n",
       "    </tr>\n",
       "    <tr>\n",
       "      <th>7</th>\n",
       "      <td>166.81</td>\n",
       "      <td>169.60</td>\n",
       "      <td>183.43</td>\n",
       "      <td>163.25</td>\n",
       "    </tr>\n",
       "    <tr>\n",
       "      <th>8</th>\n",
       "      <td>158.81</td>\n",
       "      <td>175.36</td>\n",
       "      <td>191.60</td>\n",
       "      <td>152.79</td>\n",
       "    </tr>\n",
       "    <tr>\n",
       "      <th>9</th>\n",
       "      <td>165.88</td>\n",
       "      <td>198.68</td>\n",
       "      <td>208.43</td>\n",
       "      <td>161.98</td>\n",
       "    </tr>\n",
       "  </tbody>\n",
       "</table>\n",
       "</div>"
      ],
      "text/plain": [
       "   Laboratory 1  Laboratory 2  Laboratory 3  Laboratory 4\n",
       "0        185.35        165.53        176.70        166.13\n",
       "1        170.49        185.91        198.45        160.79\n",
       "2        192.77        194.92        201.23        185.18\n",
       "3        177.33        183.00        199.61        176.42\n",
       "4        193.41        169.57        204.63        152.60\n",
       "5        179.45        197.00        181.51        161.12\n",
       "6        191.37        166.36        214.21        154.02\n",
       "7        166.81        169.60        183.43        163.25\n",
       "8        158.81        175.36        191.60        152.79\n",
       "9        165.88        198.68        208.43        161.98"
      ]
     },
     "execution_count": 82,
     "metadata": {},
     "output_type": "execute_result"
    }
   ],
   "source": [
    "df2 =pd.read_csv(r'C:\\Users\\DELL\\Downloads\\LabTAT.csv')\n",
    "df2.head(10)"
   ]
  },
  {
   "cell_type": "markdown",
   "id": "2059761b",
   "metadata": {},
   "source": [
    "#### <font color='Green'>We will be performing Anova test  to verify if the mean of samples are different or same.</font>"
   ]
  },
  {
   "cell_type": "markdown",
   "id": "952edc62",
   "metadata": {},
   "source": [
    "#### Null Hypothesis : µ1=µ2=µ3=µ4\n",
    "#### Alternated Hypothesis : Atleast one is different\n",
    "#### Alpha= 0.05"
   ]
  },
  {
   "cell_type": "markdown",
   "id": "b53a0985",
   "metadata": {},
   "source": [
    "##### Finding the t-statistics values"
   ]
  },
  {
   "cell_type": "code",
   "execution_count": 83,
   "id": "14c58e37",
   "metadata": {},
   "outputs": [
    {
     "name": "stdout",
     "output_type": "stream",
     "text": [
      "p_value = 2.1156708949992414e-57\n"
     ]
    }
   ],
   "source": [
    "test_statistic , p_value = stats.f_oneway(df2.iloc[:,0],df2.iloc[:,1],df2.iloc[:,2],df2.iloc[:,3])\n",
    "print('p_value =',p_value)"
   ]
  },
  {
   "cell_type": "markdown",
   "id": "17bc864d",
   "metadata": {},
   "source": [
    "#### Compare p_value with \n",
    "#### If p_value is ≠ alpha :- we failed to reject Null Hypothesis because of lack of evidence\n",
    "#### If p_value is = alpha :- we reject Null Hypothesis\n",
    "interpreting p-value"
   ]
  },
  {
   "cell_type": "code",
   "execution_count": 84,
   "id": "f33e231b",
   "metadata": {},
   "outputs": [
    {
     "name": "stdout",
     "output_type": "stream",
     "text": [
      "Significnace=0.050, p=0.000\n",
      "We reject Null Hypothesis there is a significance difference between TAT reports for laboratories\n"
     ]
    }
   ],
   "source": [
    "alpha = 0.05\n",
    "print('Significnace=%.3f, p=%.3f' % (alpha, p_value))\n",
    "if p_value <= alpha:\n",
    "    print('We reject Null Hypothesis there is a significance difference between TAT reports for laboratories')\n",
    "else:\n",
    "    print('We fail to reject Null hypothesis')"
   ]
  },
  {
   "cell_type": "markdown",
   "id": "7edd016f",
   "metadata": {},
   "source": [
    "#### <font color = ' Brown'>Hence, we failed to accept null hypothesis , there is significant difference between the TAT reports.</font>"
   ]
  },
  {
   "cell_type": "markdown",
   "id": "36e27c3a",
   "metadata": {},
   "source": [
    "***"
   ]
  },
  {
   "cell_type": "markdown",
   "id": "a6ec84f3",
   "metadata": {},
   "source": [
    "### Question 3\n",
    "#### Sales of products in four different regions is tabulated for males and females. Find if male-female buyer rations are similar across regions."
   ]
  },
  {
   "cell_type": "code",
   "execution_count": 85,
   "id": "a0b8c53f",
   "metadata": {},
   "outputs": [
    {
     "data": {
      "text/html": [
       "<div>\n",
       "<style scoped>\n",
       "    .dataframe tbody tr th:only-of-type {\n",
       "        vertical-align: middle;\n",
       "    }\n",
       "\n",
       "    .dataframe tbody tr th {\n",
       "        vertical-align: top;\n",
       "    }\n",
       "\n",
       "    .dataframe thead th {\n",
       "        text-align: right;\n",
       "    }\n",
       "</style>\n",
       "<table border=\"1\" class=\"dataframe\">\n",
       "  <thead>\n",
       "    <tr style=\"text-align: right;\">\n",
       "      <th></th>\n",
       "      <th>Observed Values</th>\n",
       "      <th>East</th>\n",
       "      <th>West</th>\n",
       "      <th>North</th>\n",
       "      <th>South</th>\n",
       "    </tr>\n",
       "  </thead>\n",
       "  <tbody>\n",
       "    <tr>\n",
       "      <th>0</th>\n",
       "      <td>Males</td>\n",
       "      <td>50</td>\n",
       "      <td>142</td>\n",
       "      <td>131</td>\n",
       "      <td>70</td>\n",
       "    </tr>\n",
       "    <tr>\n",
       "      <th>1</th>\n",
       "      <td>Females</td>\n",
       "      <td>435</td>\n",
       "      <td>1523</td>\n",
       "      <td>1356</td>\n",
       "      <td>750</td>\n",
       "    </tr>\n",
       "  </tbody>\n",
       "</table>\n",
       "</div>"
      ],
      "text/plain": [
       "  Observed Values  East  West  North  South\n",
       "0           Males    50   142    131     70\n",
       "1         Females   435  1523   1356    750"
      ]
     },
     "execution_count": 85,
     "metadata": {},
     "output_type": "execute_result"
    }
   ],
   "source": [
    "df3 =pd.read_csv(r'C:\\Users\\DELL\\Downloads\\BuyerRatio.csv')\n",
    "df3"
   ]
  },
  {
   "cell_type": "markdown",
   "id": "d981ef55",
   "metadata": {},
   "source": [
    "#### <font color='Green' > We will be using Chi Square Test for giving the hypothesis.</font>"
   ]
  },
  {
   "cell_type": "markdown",
   "id": "0b59a677",
   "metadata": {},
   "source": [
    "#### Null Hypothesis: There is no association or dependency between the gender based buyer rations across regions\n",
    "#### Alternative Hypthosis: There is a significant association or dependency between the gender based buyer rations across regions\n",
    "#### Alpha = 0.05\n"
   ]
  },
  {
   "cell_type": "code",
   "execution_count": 86,
   "id": "74d27e42",
   "metadata": {},
   "outputs": [
    {
     "data": {
      "text/plain": [
       "array([[  50,  142,  131,   70],\n",
       "       [ 435, 1523, 1356,  750]])"
      ]
     },
     "execution_count": 86,
     "metadata": {},
     "output_type": "execute_result"
    }
   ],
   "source": [
    "obs=np.array([[50,142,131,70],[435,1523,1356,750]])\n",
    "obs"
   ]
  },
  {
   "cell_type": "markdown",
   "id": "e739bd85",
   "metadata": {},
   "source": [
    "#### Applying Chi square test"
   ]
  },
  {
   "cell_type": "code",
   "execution_count": 87,
   "id": "b23a6dd0",
   "metadata": {},
   "outputs": [
    {
     "name": "stdout",
     "output_type": "stream",
     "text": [
      "CHI2 = 1.595945538661058 \n",
      " P = 0.6603094907091882 \n",
      " DF = 3 \n",
      " Expected values = [[  42.76531299  146.81287862  131.11756787   72.30424052]\n",
      " [ 442.23468701 1518.18712138 1355.88243213  747.69575948]]\n"
     ]
    }
   ],
   "source": [
    "chi2, p, dof, exp=chi2_contingency(obs)\n",
    "print('CHI2 =',chi2,\"\\n\", 'P =',p,\"\\n\", 'DF =',dof,\"\\n\", 'Expected values =',exp)"
   ]
  },
  {
   "cell_type": "code",
   "execution_count": 88,
   "id": "1d7db23f",
   "metadata": {},
   "outputs": [],
   "source": [
    "observed = np.array([50, 142, 131, 70, 435, 1523, 1356, 750])\n",
    "expected = np.array([42.76531299,  146.81287862,  131.11756787, 72.30424052, 442.23468701, 1518.18712138, 1355.88243213, 747.69575948])"
   ]
  },
  {
   "cell_type": "markdown",
   "id": "a4f1be15",
   "metadata": {},
   "source": [
    "#### Compare p_value with\n",
    "#### If p_value is ≠ alpha :- we failed to reject Null Hypothesis because of lack of evidence\n",
    "#### If p_value is = alpha :- we reject Null Hypothesis"
   ]
  },
  {
   "cell_type": "code",
   "execution_count": 89,
   "id": "f31b629e",
   "metadata": {},
   "outputs": [
    {
     "name": "stdout",
     "output_type": "stream",
     "text": [
      "Fail to reject null hypothesis.\n"
     ]
    }
   ],
   "source": [
    "if p < 0.05:\n",
    "    print('Reject Null Hypothesis. There is no association or dependency between the gender based buyer rations across regions.')\n",
    "else:\n",
    "    print('Fail to reject null hypothesis.')"
   ]
  },
  {
   "cell_type": "markdown",
   "id": "0ade1396",
   "metadata": {},
   "source": [
    "#### <font color ='Brown'>There is no association or dependency between the gender based buyer rations across regions</font>"
   ]
  },
  {
   "cell_type": "markdown",
   "id": "911327df",
   "metadata": {},
   "source": [
    "***"
   ]
  },
  {
   "cell_type": "markdown",
   "id": "18ef0ed3",
   "metadata": {},
   "source": [
    "#### Question 4"
   ]
  },
  {
   "attachments": {},
   "cell_type": "markdown",
   "id": "9e25a45b",
   "metadata": {},
   "source": [
    "#### TeleCall uses 4 centers around the globe to process customer order forms. They audit a certain %  of the customer order forms. Any error in order form renders it defective and has to be reworked before processing.  The manager wants to check whether the defective %  varies by centre. Please analyze the data at 5% significance level and help the manager draw appropriate inferences."
   ]
  },
  {
   "cell_type": "code",
   "execution_count": 90,
   "id": "44f45946",
   "metadata": {},
   "outputs": [
    {
     "data": {
      "text/html": [
       "<div>\n",
       "<style scoped>\n",
       "    .dataframe tbody tr th:only-of-type {\n",
       "        vertical-align: middle;\n",
       "    }\n",
       "\n",
       "    .dataframe tbody tr th {\n",
       "        vertical-align: top;\n",
       "    }\n",
       "\n",
       "    .dataframe thead th {\n",
       "        text-align: right;\n",
       "    }\n",
       "</style>\n",
       "<table border=\"1\" class=\"dataframe\">\n",
       "  <thead>\n",
       "    <tr style=\"text-align: right;\">\n",
       "      <th></th>\n",
       "      <th>Phillippines</th>\n",
       "      <th>Indonesia</th>\n",
       "      <th>Malta</th>\n",
       "      <th>India</th>\n",
       "    </tr>\n",
       "  </thead>\n",
       "  <tbody>\n",
       "    <tr>\n",
       "      <th>0</th>\n",
       "      <td>Error Free</td>\n",
       "      <td>Error Free</td>\n",
       "      <td>Defective</td>\n",
       "      <td>Error Free</td>\n",
       "    </tr>\n",
       "    <tr>\n",
       "      <th>1</th>\n",
       "      <td>Error Free</td>\n",
       "      <td>Error Free</td>\n",
       "      <td>Error Free</td>\n",
       "      <td>Defective</td>\n",
       "    </tr>\n",
       "    <tr>\n",
       "      <th>2</th>\n",
       "      <td>Error Free</td>\n",
       "      <td>Defective</td>\n",
       "      <td>Defective</td>\n",
       "      <td>Error Free</td>\n",
       "    </tr>\n",
       "    <tr>\n",
       "      <th>3</th>\n",
       "      <td>Error Free</td>\n",
       "      <td>Error Free</td>\n",
       "      <td>Error Free</td>\n",
       "      <td>Error Free</td>\n",
       "    </tr>\n",
       "    <tr>\n",
       "      <th>4</th>\n",
       "      <td>Error Free</td>\n",
       "      <td>Error Free</td>\n",
       "      <td>Defective</td>\n",
       "      <td>Error Free</td>\n",
       "    </tr>\n",
       "    <tr>\n",
       "      <th>5</th>\n",
       "      <td>Error Free</td>\n",
       "      <td>Error Free</td>\n",
       "      <td>Error Free</td>\n",
       "      <td>Error Free</td>\n",
       "    </tr>\n",
       "    <tr>\n",
       "      <th>6</th>\n",
       "      <td>Error Free</td>\n",
       "      <td>Defective</td>\n",
       "      <td>Error Free</td>\n",
       "      <td>Error Free</td>\n",
       "    </tr>\n",
       "    <tr>\n",
       "      <th>7</th>\n",
       "      <td>Error Free</td>\n",
       "      <td>Error Free</td>\n",
       "      <td>Error Free</td>\n",
       "      <td>Error Free</td>\n",
       "    </tr>\n",
       "    <tr>\n",
       "      <th>8</th>\n",
       "      <td>Error Free</td>\n",
       "      <td>Error Free</td>\n",
       "      <td>Error Free</td>\n",
       "      <td>Error Free</td>\n",
       "    </tr>\n",
       "    <tr>\n",
       "      <th>9</th>\n",
       "      <td>Error Free</td>\n",
       "      <td>Error Free</td>\n",
       "      <td>Error Free</td>\n",
       "      <td>Error Free</td>\n",
       "    </tr>\n",
       "  </tbody>\n",
       "</table>\n",
       "</div>"
      ],
      "text/plain": [
       "  Phillippines   Indonesia       Malta       India\n",
       "0   Error Free  Error Free   Defective  Error Free\n",
       "1   Error Free  Error Free  Error Free   Defective\n",
       "2   Error Free   Defective   Defective  Error Free\n",
       "3   Error Free  Error Free  Error Free  Error Free\n",
       "4   Error Free  Error Free   Defective  Error Free\n",
       "5   Error Free  Error Free  Error Free  Error Free\n",
       "6   Error Free   Defective  Error Free  Error Free\n",
       "7   Error Free  Error Free  Error Free  Error Free\n",
       "8   Error Free  Error Free  Error Free  Error Free\n",
       "9   Error Free  Error Free  Error Free  Error Free"
      ]
     },
     "execution_count": 90,
     "metadata": {},
     "output_type": "execute_result"
    }
   ],
   "source": [
    "df4 =pd.read_csv(r'C:\\Users\\DELL\\Downloads\\Costomer+OrderForm.csv')\n",
    "df4.head(10)"
   ]
  },
  {
   "cell_type": "markdown",
   "id": "616c90fd",
   "metadata": {},
   "source": [
    "#### <font color= 'Green'> We will be using Chi Square Method to analyse the data.</font>"
   ]
  },
  {
   "cell_type": "markdown",
   "id": "aa3710ad",
   "metadata": {},
   "source": [
    "#### Null Hypothesis : µ1=µ2=µ3=µ4\n",
    "#### Alternated Hypothesis : Atleast one is different\n",
    "#### Alpha= 0.05"
   ]
  },
  {
   "cell_type": "markdown",
   "id": "86198a47",
   "metadata": {},
   "source": [
    "#### Finding the count of Error Free and Defective orders fron given dataset to build contigency table"
   ]
  },
  {
   "cell_type": "code",
   "execution_count": 91,
   "id": "699ae5f2",
   "metadata": {},
   "outputs": [
    {
     "name": "stdout",
     "output_type": "stream",
     "text": [
      "Phillippines\n",
      "Error Free    271\n",
      "Defective      29\n",
      "Name: count, dtype: int64 \n",
      " Indonesia\n",
      "Error Free    267\n",
      "Defective      33\n",
      "Name: count, dtype: int64 \n",
      " Malta\n",
      "Error Free    269\n",
      "Defective      31\n",
      "Name: count, dtype: int64 \n",
      " India\n",
      "Error Free    280\n",
      "Defective      20\n",
      "Name: count, dtype: int64\n"
     ]
    }
   ],
   "source": [
    "print(df4['Phillippines'].value_counts(),'\\n',df4['Indonesia'].value_counts(),'\\n', df4['Malta'].value_counts(),'\\n', df4['India'].value_counts())"
   ]
  },
  {
   "cell_type": "code",
   "execution_count": 92,
   "id": "db89bd1a",
   "metadata": {},
   "outputs": [
    {
     "data": {
      "text/plain": [
       "[[271, 267, 269, 280], [29, 33, 31, 20]]"
      ]
     },
     "execution_count": 92,
     "metadata": {},
     "output_type": "execute_result"
    }
   ],
   "source": [
    "contigency_table=[[271,267,269,280],\n",
    "                    [29,33,31,20]]\n",
    "contigency_table"
   ]
  },
  {
   "cell_type": "markdown",
   "id": "42adc71d",
   "metadata": {},
   "source": [
    "#### Calculating Chi Square statistics"
   ]
  },
  {
   "cell_type": "code",
   "execution_count": 93,
   "id": "7d751266",
   "metadata": {},
   "outputs": [
    {
     "data": {
      "text/plain": [
       "0.2771020991233135"
      ]
     },
     "execution_count": 93,
     "metadata": {},
     "output_type": "execute_result"
    }
   ],
   "source": [
    "stat, p, df, exp = chi2_contingency(contigency_table)\n",
    "p"
   ]
  },
  {
   "cell_type": "markdown",
   "id": "5f42edbd",
   "metadata": {},
   "source": [
    "#### Compare p_value with\n",
    "#### If p_value is ≠ alpha :- we failed to reject Null Hypothesis because of lack of evidence\n",
    "#### If p_value is = alpha :- we reject Null Hypothesis"
   ]
  },
  {
   "cell_type": "code",
   "execution_count": 94,
   "id": "607b981e",
   "metadata": {},
   "outputs": [
    {
     "name": "stdout",
     "output_type": "stream",
     "text": [
      "Fail to reject null hypothesis.\n"
     ]
    }
   ],
   "source": [
    "if p < 0.05:\n",
    "    print('Reject Null Hypothesis.The defective % varies across the centers.')\n",
    "else:\n",
    "    print('Fail to reject null hypothesis.')"
   ]
  },
  {
   "cell_type": "markdown",
   "id": "160e8c4e",
   "metadata": {},
   "source": [
    "#### <font color= 'Brown'> We fail to reject Null hypothesis. The defective % doesn't varies across the centers </font>"
   ]
  },
  {
   "cell_type": "markdown",
   "id": "7e7634e0",
   "metadata": {},
   "source": [
    "***"
   ]
  },
  {
   "cell_type": "code",
   "execution_count": null,
   "id": "e9b4c978",
   "metadata": {},
   "outputs": [],
   "source": []
  }
 ],
 "metadata": {
  "kernelspec": {
   "display_name": "Python 3 (ipykernel)",
   "language": "python",
   "name": "python3"
  },
  "language_info": {
   "codemirror_mode": {
    "name": "ipython",
    "version": 3
   },
   "file_extension": ".py",
   "mimetype": "text/x-python",
   "name": "python",
   "nbconvert_exporter": "python",
   "pygments_lexer": "ipython3",
   "version": "3.11.5"
  }
 },
 "nbformat": 4,
 "nbformat_minor": 5
}
